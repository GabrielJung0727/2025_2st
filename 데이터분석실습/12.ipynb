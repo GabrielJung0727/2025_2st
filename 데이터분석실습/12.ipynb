{
  "cells": [
    {
      "cell_type": "markdown",
      "metadata": {
        "id": "title"
      },
      "source": [
        "# KRX 주가 데이터 수집 (FinanceDataReader, Colab)\n",
        "한국 주식(KOSPI/KOSDAQ/KONEX) 종목 리스트와 일별 OHLCV(시가/고가/저가/종가/거래량) 데이터를 Colab에서 쉽게 불러오는 노트북입니다.\n",
        "\n",
        "- 데이터 소스: FinanceDataReader\n",
        "- 사용 방법: 아래 셀을 순서대로 실행하세요.\n"
      ]
    },
    {
      "cell_type": "code",
      "execution_count": null,
      "id": "ad597be5",
      "metadata": {
        "id": "install"
      },
      "outputs": [],
      "source": [
        "# 필수 라이브러리 설치\n",
        "!pip -q install --upgrade finance-datareader pandas matplotlib\n"
      ]
    },
    {
      "cell_type": "code",
      "execution_count": null,
      "id": "7bfbc7f1",
      "metadata": {
        "id": "imports"
      },
      "outputs": [],
      "source": [
        "# 기본 임포트 및 유틸 함수 정의\n",
        "import pandas as pd\n",
        "import FinanceDataReader as fdr\n",
        "from IPython.display import display\n",
        "\n",
        "LISTING_CACHE = None\n",
        "\n",
        "def list_krx_stocks(refresh: bool = False) -> pd.DataFrame:\n",
        "    \"\"\"\n",
        "    KRX(유가/코스닥/코넥스) 종목 리스트를 반환합니다.\n",
        "    컬럼 예시: ['Code','Name','Market','Sector','Industry']\n",
        "    \"\"\"\n",
        "    global LISTING_CACHE\n",
        "    if refresh or LISTING_CACHE is None:\n",
        "        LISTING_CACHE = fdr.StockListing('KRX')\n",
        "    cols = [c for c in ['Code','Name','Market','Sector','Industry'] if c in LISTING_CACHE.columns]\n",
        "    return LISTING_CACHE[cols].copy() if cols else LISTING_CACHE.copy()\n",
        "\n",
        "def resolve_code(query: str, listings: pd.DataFrame | None = None) -> dict:\n",
        "    \"\"\"\n",
        "    6자리 종목코드 또는 한글 종목명으로 실제 코드를 해석합니다.\n",
        "    여러 종목이 매치될 경우 상위 후보를 출력하고 예외를 발생합니다.\n",
        "    \"\"\"\n",
        "    df = listings if listings is not None else list_krx_stocks()\n",
        "    q = str(query).strip()\n",
        "    # 코드 형태(6자리 숫자) 우선\n",
        "    if q.isdigit() and len(q) == 6 and (df['Code'] == q).any():\n",
        "        row = df.loc[df['Code'] == q].iloc[0]\n",
        "        return {'code': row['Code'], 'name': row['Name'], 'market': row.get('Market')}\n",
        "    # 정확한 이름 매치\n",
        "    exact = df.loc[df['Name'] == q]\n",
        "    if len(exact) == 1:\n",
        "        row = exact.iloc[0]\n",
        "        return {'code': row['Code'], 'name': row['Name'], 'market': row.get('Market')}\n",
        "    # 포함 매치\n",
        "    contains = df[df['Name'].str.contains(q, case=False, na=False)]\n",
        "    if contains.empty:\n",
        "        raise ValueError(f'해당 종목을 찾을 수 없습니다: {query}')\n",
        "    if len(contains) > 1:\n",
        "        display(contains.head(20)[[c for c in ['Code','Name','Market'] if c in contains.columns]])\n",
        "        raise ValueError('여러 종목이 조회되었습니다. 6자리 코드 또는 정확한 이름을 입력하세요.')\n",
        "    row = contains.iloc[0]\n",
        "    return {'code': row['Code'], 'name': row['Name'], 'market': row.get('Market')}\n",
        "\n",
        "def fetch_prices(query: str, start: str | None = None, end: str | None = None) -> pd.DataFrame:\n",
        "    \"\"\"\n",
        "    일별 OHLCV를 조회합니다.\n",
        "    query: 6자리 코드(예: '005930') 또는 종목명(예: '삼성전자')\n",
        "    start/end: 'YYYY-MM-DD' 또는 None\n",
        "    \"\"\"\n",
        "    sym = resolve_code(query)\n",
        "    df = fdr.DataReader(sym['code'], start, end)\n",
        "    # 메타정보를 attrs로 보관\n",
        "    df.attrs.update(sym)\n",
        "    return df\n"
      ]
    },
    {
      "cell_type": "markdown",
      "id": "3b3c9807",
      "metadata": {
        "id": "quickstart"
      },
      "source": [
        "## 빠른 시작\n",
        "- 아래 셀에서 `QUERY`, `START`, `END` 값을 설정하고 실행하세요.\n",
        "- `QUERY`에는 6자리 코드 또는 한글 종목명을 넣을 수 있습니다.\n"
      ]
    },
    {
      "cell_type": "code",
      "execution_count": null,
      "id": "3a6f522b",
      "metadata": {
        "id": "quickstart-code"
      },
      "outputs": [],
      "source": [
        "# 조회 파라미터 설정\n",
        "QUERY = '삼성전자'   # 예: '005930' 또는 '삼성전자'\n",
        "START = '2024-01-01' # 예: 'YYYY-MM-DD' 또는 None\n",
        "END = None           # 예: 'YYYY-MM-DD' 또는 None\n",
        "\n",
        "sym = resolve_code(QUERY)\n",
        "print(f\"종목: {sym['code']} ({sym['name']}) / 시장: {sym.get('market')}\")\n",
        "df = fdr.DataReader(sym['code'], START, END)\n",
        "display(df.tail())\n"
      ]
    },
    {
      "cell_type": "markdown",
      "id": "2eae7f13",
      "metadata": {
        "id": "listings"
      },
      "source": [
        "## 종목 리스트 살펴보기\n",
        "- 전체 KRX 종목 리스트 로드 및 일부 미리보기\n",
        "- 이름에 특정 키워드(예: '전자')가 포함된 종목 필터링 예시\n"
      ]
    },
    {
      "cell_type": "code",
      "execution_count": null,
      "id": "1c6edcef",
      "metadata": {
        "id": "listings-code"
      },
      "outputs": [],
      "source": [
        "listings = list_krx_stocks()\n",
        "print(f'전체 종목 수: {len(listings):,}')\n",
        "display(listings.head(10))\n",
        "\n",
        "# 키워드로 이름 검색(대소문자 무시)\n",
        "keyword = '전자'\n",
        "display(listings[listings['Name'].str.contains(keyword, case=False, na=False)].head(20))\n"
      ]
    },
    {
      "cell_type": "markdown",
      "id": "4e1ee646",
      "metadata": {
        "id": "save"
      },
      "source": [
        "## CSV로 저장하기\n",
        "Colab 런타임의 `/content` 경로에 CSV 파일을 저장합니다.\n"
      ]
    },
    {
      "cell_type": "code",
      "execution_count": null,
      "id": "3fdd792b",
      "metadata": {
        "id": "save-code"
      },
      "outputs": [],
      "source": [
        "# 위의 df(최근 조회 결과)를 CSV로 저장\n",
        "out_path = f\"/content/{sym['code']}_{sym['name']}_ohlcv.csv\"\n",
        "df.to_csv(out_path, encoding='utf-8')\n",
        "print('저장 완료:', out_path)\n"
      ]
    },
    {
      "cell_type": "markdown",
      "id": "ae4990b0",
      "metadata": {
        "id": "viz-title"
      },
      "source": [
        "## 시각화\n",
        "- 종가와 이동평균선(20, 60), 거래량을 함께 표시합니다.\n"
      ]
    },
    {
      "cell_type": "code",
      "execution_count": null,
      "id": "c5dd0803",
      "metadata": {
        "id": "viz-code"
      },
      "outputs": [],
      "source": [
        "import matplotlib.pyplot as plt\n",
        "\n",
        "# 이동평균선 계산\n",
        "if 'Close' in df.columns:\n",
        "    df['MA20'] = df['Close'].rolling(20).mean()\n",
        "    df['MA60'] = df['Close'].rolling(60).mean()\n",
        "\n",
        "fig, ax1 = plt.subplots(figsize=(12, 5))\n",
        "df['Close'].plot(ax=ax1, color='tab:blue', label='Close')\n",
        "if 'MA20' in df.columns: df['MA20'].plot(ax=ax1, color='tab:orange', label='MA20')\n",
        "if 'MA60' in df.columns: df['MA60'].plot(ax=ax1, color='tab:green', label='MA60')\n",
        "ax1.set_title(f\"{sym['name']} ({sym['code']}) Price and moving average\")\n",
        "ax1.set_xlabel('Date')\n",
        "ax1.set_ylabel('Price')\n",
        "ax1.grid(alpha=0.3)\n",
        "ax1.legend(loc='upper left')\n",
        "\n",
        "# 거래량 보조축\n",
        "if 'Volume' in df.columns:\n",
        "    ax2 = ax1.twinx()\n",
        "    ax2.bar(df.index, df['Volume'], color='lightgray', alpha=0.3, width=2, label='Volume')\n",
        "    ax2.set_ylabel('Volume')\n",
        "    ax2.legend(loc='upper right')\n",
        "\n",
        "plt.show()\n"
      ]
    },
    {
      "cell_type": "markdown",
      "id": "81bd77a7",
      "metadata": {},
      "source": [
        "- MA20: 20-period simple moving average. 일봉 기준 최근 20거래일 종가의 평균으로, 대략 1개월 추세를 부드럽게 보여줍니다.\n",
        "- MA60: 60-period simple moving average. 일봉 기준 최근 60거래일(약 분기)의 평균으로, 중기 추세를 나타냅니다.\n",
        "- 해석: 가격이 MA 위면 상승 우위, 아래면 하락 우위로 보는 경향. MA20이 MA60을 상향 돌파하면 상승(골든크로스), 하향 돌파하면 하락(데드크로스) 신호로 해석하\n",
        "기도 합니다.\n",
        "- 민감도: MA20은 빠르고 민감(신호 많음, 노이즈도 많음), MA60은 느리지만 안정적(노이즈 적음, 신호 지연).\n",
        "- 주의: 이동평균은 후행 지표라 횡보장에선 잦은 훼이크(휩쏘)가 발생할 수 있습니다. 데이터 주기가 시간봉/주봉이면 ‘20/60 시간/주’로 해석됩니다.\n",
        "- 파이썬 계산: df['MA20'] = df['Close'].rolling(20).mean() / df['MA60'] = df['Close'].rolling(60).mean()\n",
        "- 변형: 가중치 부여한 EMA 사용 예시 df['EMA20'] = df['Close'].ewm(span=20, adjust=False).mean() (반응 더 빠름)."
      ]
    },
    {
      "cell_type": "markdown",
      "id": "249dbddc",
      "metadata": {
        "id": "us-title"
      },
      "source": [
        "## 해외 주식 (아마존)\n",
        "- 미국 `AMZN` 티커(아마존) 일별 OHLCV 조회 및 시각화 예시입니다.\n",
        "- 통화 단위는 USD입니다. 기간을 바꾸려면 `START_US`, `END_US`를 수정하세요.\n"
      ]
    },
    {
      "cell_type": "code",
      "execution_count": null,
      "id": "3127807e",
      "metadata": {
        "id": "us-fetch"
      },
      "outputs": [],
      "source": [
        "# 아마존(AMZN) 데이터 조회\n",
        "US_TICKER = 'AMZN'\n",
        "START_US = '2024-01-01'\n",
        "END_US = None\n",
        "\n",
        "us_df = fdr.DataReader(US_TICKER, START_US, END_US)\n",
        "print(f'로드 완료: {US_TICKER}, 행 수={len(us_df):,}')\n",
        "display(us_df.tail())\n"
      ]
    },
    {
      "cell_type": "code",
      "execution_count": null,
      "id": "d7146d9e",
      "metadata": {
        "id": "us-plot"
      },
      "outputs": [],
      "source": [
        "# 아마존 시각화 (종가 + MA20/MA60 + 거래량)\n",
        "import matplotlib.pyplot as plt\n",
        "\n",
        "if 'Close' in us_df.columns:\n",
        "    us_df['MA20'] = us_df['Close'].rolling(20).mean()\n",
        "    us_df['MA60'] = us_df['Close'].rolling(60).mean()\n",
        "\n",
        "fig, ax1 = plt.subplots(figsize=(12, 5))\n",
        "us_df['Close'].plot(ax=ax1, color='tab:blue', label='Close')\n",
        "if 'MA20' in us_df.columns: us_df['MA20'].plot(ax=ax1, color='tab:orange', label='MA20')\n",
        "if 'MA60' in us_df.columns: us_df['MA60'].plot(ax=ax1, color='tab:green', label='MA60')\n",
        "ax1.set_title('Amazon.com, Inc. (AMZN) Price and moving average')\n",
        "ax1.set_xlabel('Date')\n",
        "ax1.set_ylabel('Price (USD)')\n",
        "ax1.grid(alpha=0.3)\n",
        "ax1.legend(loc='upper left')\n",
        "\n",
        "if 'Volume' in us_df.columns:\n",
        "    ax2 = ax1.twinx()\n",
        "    ax2.bar(us_df.index, us_df['Volume'], color='lightgray', alpha=0.3, width=2, label='Volume')\n",
        "    ax2.set_ylabel('Volume')\n",
        "    ax2.legend(loc='upper right')\n",
        "\n",
        "plt.show()\n"
      ]
    },
    {
      "cell_type": "markdown",
      "id": "bfdb5ec4",
      "metadata": {
        "id": "compare-title"
      },
      "source": [
        "## 국내 vs 해외 비교\n",
        "- 동일 기간을 기준 100으로 정규화하여 라인 차트로 비교합니다.\n"
      ]
    },
    {
      "cell_type": "code",
      "execution_count": null,
      "id": "c575bcd3",
      "metadata": {
        "id": "compare-code"
      },
      "outputs": [],
      "source": [
        "import matplotlib.pyplot as plt\n",
        "\n",
        "# 국내(df)와 해외(us_df)가 준비되어 있어야 합니다.\n",
        "dom = df[['Close']].rename(columns={'Close': 'Korea'}) if 'Close' in df.columns else None\n",
        "us = us_df[['Close']].rename(columns={'Close': 'Amazon'}) if 'Close' in us_df.columns else None\n",
        "if dom is None or us is None:\n",
        "    raise RuntimeError('df 또는 us_df가 준비되어 있지 않습니다. 위의 셀들을 먼저 실행하세요.')\n",
        "\n",
        "# 공통 기간으로 정렬/결합\n",
        "merged = dom.join(us, how='inner')\n",
        "if merged.empty:\n",
        "    raise RuntimeError('겹치는 기간이 없습니다. START/END 범위를 조정하세요.')\n",
        "\n",
        "# 기준 100으로 정규화\n",
        "base = merged.iloc[0]\n",
        "norm = merged / base * 100\n",
        "\n",
        "ax = norm.plot(figsize=(12, 5), title='국내(Korea) vs 해외(Amazon) 기준100 비교')\n",
        "ax.set_ylabel('Index (Base=100)')\n",
        "ax.grid(alpha=0.3)\n",
        "plt.show()\n"
      ]
    },
    {
      "cell_type": "markdown",
      "id": "150288d5",
      "metadata": {
        "id": "idx-title"
      },
      "source": [
        "# 지수/환율 수집\n",
        "한국 지수, 미국 지수, 국가별 지수, 환율을 각각 불러오는 예시입니다.\n"
      ]
    },
    {
      "cell_type": "code",
      "execution_count": null,
      "id": "43d41a7a",
      "metadata": {
        "id": "idx-helpers"
      },
      "outputs": [],
      "source": [
        "# 공통 헬퍼: 심볼 후보 리스트를 순서대로 시도하여 첫 번째 성공 결과 반환\n",
        "from typing import List, Tuple\n",
        "\n",
        "def read_first_available(candidates: List[str], start=None, end=None) -> Tuple[pd.DataFrame, str]:\n",
        "    last_err = None\n",
        "    for sym in candidates:\n",
        "        try:\n",
        "            df = fdr.DataReader(sym, start, end)\n",
        "            if df is not None and len(df) > 0:\n",
        "                return df, sym\n",
        "        except Exception as e:\n",
        "            last_err = e\n",
        "            continue\n",
        "    raise RuntimeError(f'심볼 후보 모두 실패: {candidates} / 마지막 오류: {last_err}')\n",
        "\n",
        "START_IDX = '2023-01-01'\n",
        "END_IDX = None\n"
      ]
    },
    {
      "cell_type": "markdown",
      "id": "062772b9",
      "metadata": {
        "id": "kr-index"
      },
      "source": [
        "## 한국 지수\n",
        "- 코스피(KOSPI), 코스닥(KOSDAQ)을 불러와 비교합니다.\n"
      ]
    },
    {
      "cell_type": "code",
      "execution_count": null,
      "id": "f781008e",
      "metadata": {
        "id": "kr-index-code"
      },
      "outputs": [],
      "source": [
        "kospi_df, kospi_sym = read_first_available(['KS11', 'KOSPI'], START_IDX, END_IDX)\n",
        "kosdaq_df, kosdaq_sym = read_first_available(['KQ11', 'KOSDAQ'], START_IDX, END_IDX)\n",
        "print('KOSPI 심볼:', kospi_sym, '행수:', len(kospi_df))\n",
        "print('KOSDAQ 심볼:', kosdaq_sym, '행수:', len(kosdaq_df))\n",
        "\n",
        "kr = pd.DataFrame({\n",
        "    'KOSPI': kospi_df['Close'],\n",
        "    'KOSDAQ': kosdaq_df['Close'],\n",
        "}).dropna()\n",
        "# 표로 미리보기\n",
        "display(kr.tail())\n",
        "base = kr.iloc[0]\n",
        "kr_norm = kr / base * 100\n",
        "ax = kr_norm.plot(figsize=(12,5), title='KOSPI vs KOSDAQ (기준100)')\n",
        "ax.set_ylabel('Index (Base=100)'); ax.grid(alpha=0.3)\n",
        "plt.show()\n"
      ]
    },
    {
      "cell_type": "markdown",
      "id": "c5ab405f",
      "metadata": {
        "id": "us-index"
      },
      "source": [
        "## 미국 지수\n",
        "- S&P 500, Dow Jones, NASDAQ Composite를 불러와 비교합니다.\n"
      ]
    },
    {
      "cell_type": "code",
      "execution_count": null,
      "id": "e77b3589",
      "metadata": {
        "id": "us-index-code"
      },
      "outputs": [],
      "source": [
        "spx_df, spx_sym = read_first_available(['US500', '^GSPC', 'GSPC'], START_IDX, END_IDX)\n",
        "dji_df, dji_sym = read_first_available(['DJI', '^DJI'], START_IDX, END_IDX)\n",
        "ixic_df, ixic_sym = read_first_available(['IXIC', '^IXIC', 'US100', 'NDX'], START_IDX, END_IDX)\n",
        "print('S&P500 심볼:', spx_sym, '행수:', len(spx_df))\n",
        "print('DJI 심볼:', dji_sym, '행수:', len(dji_df))\n",
        "print('NASDAQ 심볼:', ixic_sym, '행수:', len(ixic_df))\n",
        "\n",
        "us_idx = pd.DataFrame({\n",
        "    'S&P500': spx_df['Close'],\n",
        "    'DJI': dji_df['Close'],\n",
        "    'NASDAQ': ixic_df['Close'],\n",
        "}).dropna()\n",
        "# 표로 미리보기\n",
        "display(us_idx.tail())\n",
        "base = us_idx.iloc[0]\n",
        "us_norm = us_idx / base * 100\n",
        "ax = us_norm.plot(figsize=(12,5), title='미국 지수 비교 (기준100)')\n",
        "ax.set_ylabel('Index (Base=100)'); ax.grid(alpha=0.3)\n",
        "plt.show()\n"
      ]
    },
    {
      "cell_type": "markdown",
      "id": "7ff74a99",
      "metadata": {
        "id": "country-index"
      },
      "source": [
        "## 국가별 지수\n",
        "- 일본(니케이225), 독일(DAX), 홍콩(항셍) 등 대표 지수를 불러와 비교합니다.\n",
        "- 심볼은 환경에 따라 다를 수 있어 후보를 순차 시도합니다.\n"
      ]
    },
    {
      "cell_type": "code",
      "execution_count": null,
      "id": "8b52649d",
      "metadata": {
        "id": "country-index-code"
      },
      "outputs": [],
      "source": [
        "countries = {\n",
        "    'Nikkei225': ['JP225', 'N225', '^N225'],\n",
        "    'DAX': ['DE30', 'DAX', '^GDAXI'],\n",
        "    'HangSeng': ['HK50', 'HSI', '^HSI'],\n",
        "}\n",
        "dfs = {}\n",
        "for name, cands in countries.items():\n",
        "    dfc, used = read_first_available(cands, START_IDX, END_IDX)\n",
        "    dfs[name] = dfc['Close']\n",
        "    print(f'{name}: 사용 심볼 {used}, 행수 {len(dfc)}')\n",
        "\n",
        "cc = pd.DataFrame(dfs).dropna()\n",
        "# 표로 미리보기\n",
        "display(cc.tail())\n",
        "base = cc.iloc[0]\n",
        "cc_norm = cc / base * 100\n",
        "ax = cc_norm.plot(figsize=(12,5), title='국가별 지수 비교 (기준100)')\n",
        "ax.set_ylabel('Index (Base=100)'); ax.grid(alpha=0.3)\n",
        "plt.show()\n"
      ]
    },
    {
      "cell_type": "markdown",
      "id": "9e938bc1",
      "metadata": {
        "id": "fx-title"
      },
      "source": [
        "## 환율\n",
        "- USD/KRW, JPY/KRW, EUR/KRW 환율을 불러와 비교합니다. (종가 기준)\n"
      ]
    },
    {
      "cell_type": "code",
      "execution_count": null,
      "id": "4bb744aa",
      "metadata": {
        "id": "fx-code"
      },
      "outputs": [],
      "source": [
        "fx_pairs = {\n",
        "    'USD/KRW': ['USD/KRW'],\n",
        "    'JPY/KRW': ['JPY/KRW'],\n",
        "    'EUR/KRW': ['EUR/KRW'],\n",
        "}\n",
        "fx_closes = {}\n",
        "for name, cands in fx_pairs.items():\n",
        "    dffx, used = read_first_available(cands, START_IDX, END_IDX)\n",
        "    fx_closes[name] = dffx['Close']\n",
        "    print(f'{name}: 사용 심볼 {used}, 행수 {len(dffx)}')\n",
        "\n",
        "fx = pd.DataFrame(fx_closes).dropna()\n",
        "# 표로 미리보기\n",
        "display(fx.tail())\n",
        "# 환율은 절대수준 비교도 가능하지만, 변동 비교를 위해 기준 100 정규화 예시\n",
        "base = fx.iloc[0]\n",
        "fx_norm = fx / base * 100\n",
        "ax = fx_norm.plot(figsize=(12,5), title='환율 비교 (기준100)')\n",
        "ax.set_ylabel('Index (Base=100)'); ax.grid(alpha=0.3)\n",
        "plt.show()\n"
      ]
    },
    {
      "cell_type": "markdown",
      "id": "d2d35942",
      "metadata": {
        "id": "btc-title"
      },
      "source": [
        "## 암호화폐 (비트코인)\n",
        "- BTC를 특정 통화쌍으로 조회하고 표와 시각화를 제공합니다.\n",
        "- 예: `BTC/USD`, `BTC/KRW`\n"
      ]
    },
    {
      "cell_type": "code",
      "execution_count": null,
      "id": "38c36d24",
      "metadata": {
        "id": "btc-code"
      },
      "outputs": [],
      "source": [
        "BTC_PAIR = 'BTC/USD'   # 'BTC/KRW' 로 변경 가능\n",
        "START_CRYPTO = '2024-01-01'\n",
        "END_CRYPTO = None\n",
        "\n",
        "btc = fdr.DataReader(BTC_PAIR, START_CRYPTO, END_CRYPTO)\n",
        "print(f'로드 완료: {BTC_PAIR}, 행 수={len(btc):,}')\n",
        "display(btc.tail())\n",
        "\n",
        "# 시각화 (종가 + MA20/MA60 + 거래량 보조축)\n",
        "import matplotlib.pyplot as plt\n",
        "if 'Close' in btc.columns:\n",
        "    btc['MA20'] = btc['Close'].rolling(20).mean()\n",
        "    btc['MA60'] = btc['Close'].rolling(60).mean()\n",
        "fig, ax1 = plt.subplots(figsize=(12,5))\n",
        "btc['Close'].plot(ax=ax1, label='Close', color='tab:blue')\n",
        "if 'MA20' in btc.columns: btc['MA20'].plot(ax=ax1, label='MA20', color='tab:orange')\n",
        "if 'MA60' in btc.columns: btc['MA60'].plot(ax=ax1, label='MA60', color='tab:green')\n",
        "ax1.set_title(f'Bitcoin ({BTC_PAIR}) Close & MAs')\n",
        "ax1.set_xlabel('Date'); ax1.set_ylabel('Price')\n",
        "ax1.grid(alpha=0.3); ax1.legend(loc='upper left')\n",
        "if 'Volume' in btc.columns:\n",
        "    ax2 = ax1.twinx()\n",
        "    ax2.bar(btc.index, btc['Volume'], color='lightgray', alpha=0.3, width=2, label='Volume')\n",
        "    ax2.set_ylabel('Volume')\n",
        "    ax2.legend(loc='upper right')\n",
        "plt.show()\n"
      ]
    },
    {
      "cell_type": "markdown",
      "id": "349b8e40",
      "metadata": {
        "id": "crypto-multi-title"
      },
      "source": [
        "## 암호화폐 (여러 종목)\n",
        "- ETH, XRP, SOL 등 주요 종목을 불러와 표로 확인 후 정규화 비교 그래프를 출력합니다.\n",
        "- 통화쌍 후보를 순서대로 시도하여 사용 가능한 심볼을 자동 선택합니다.\n"
      ]
    },
    {
      "cell_type": "code",
      "execution_count": null,
      "id": "e1484131",
      "metadata": {
        "id": "crypto-multi-code"
      },
      "outputs": [],
      "source": [
        "crypto_candidates = {\n",
        "    'ETH': ['ETH/USD', 'ETH/KRW'],\n",
        "    'XRP': ['XRP/USD', 'XRP/KRW'],\n",
        "    'SOL': ['SOL/USD', 'SOL/KRW'],\n",
        "}\n",
        "crypto_closes = {}\n",
        "for name, cands in crypto_candidates.items():\n",
        "    dfc, used = read_first_available(cands, START_CRYPTO, END_CRYPTO)\n",
        "    crypto_closes[name] = dfc['Close']\n",
        "    print(f'{name}: 사용 심볼 {used}, 행수 {len(dfc)}')\n",
        "\n",
        "crypto_df = pd.DataFrame(crypto_closes).dropna()\n",
        "display(crypto_df.tail())\n",
        "base = crypto_df.iloc[0]\n",
        "crypto_norm = crypto_df / base * 100\n",
        "ax = crypto_norm.plot(figsize=(12,5), title='암호화폐 비교 (기준100)')\n",
        "ax.set_ylabel('Index (Base=100)'); ax.grid(alpha=0.3)\n",
        "plt.show()\n"
      ]
    },
    {
      "cell_type": "markdown",
      "id": "cc473696",
      "metadata": {
        "id": "unified-title"
      },
      "source": [
        "## 통합 시각화\n",
        "- 위에서 만든 모든(또는 실행된) 데이터 시리즈를 한 그래프에 색상으로 구분해 표시합니다.\n",
        "- 서로 다른 자산군이므로 값의 절대 비교 대신 기준100 정규화로 상대 비교합니다.\n"
      ]
    },
    {
      "cell_type": "code",
      "execution_count": null,
      "id": "cca2e8fd",
      "metadata": {
        "id": "unified-code"
      },
      "outputs": [],
      "source": [
        "import pandas as pd\n",
        "import matplotlib.pyplot as plt\n",
        "import matplotlib.cm as cm\n",
        "\n",
        "def norm_to_100(s: pd.Series):\n",
        "    s = s.dropna()\n",
        "    if s.empty:\n",
        "        return None\n",
        "    base = s.iloc[0]\n",
        "    if base == 0:\n",
        "        return None\n",
        "    return s / base * 100\n",
        "\n",
        "series_dict = {}  # label -> normalized series\n",
        "\n",
        "# 국내 단일 종목\n",
        "try:\n",
        "    if 'df' in globals() and 'Close' in df.columns:\n",
        "        label = f\"KOR Stock: {sym.get('name', '')}({sym.get('code','')})\" if 'sym' in globals() else 'KOR Stock'\n",
        "        ns = norm_to_100(df['Close'])\n",
        "        if ns is not None: series_dict[label] = ns\n",
        "except Exception:\n",
        "    pass\n",
        "\n",
        "# 아마존\n",
        "try:\n",
        "    if 'us_df' in globals() and 'Close' in us_df.columns:\n",
        "        ns = norm_to_100(us_df['Close'])\n",
        "        if ns is not None: series_dict['AMZN'] = ns\n",
        "except Exception:\n",
        "    pass\n",
        "\n",
        "# 한국/미국/국가별 지수 표에서 가져오기 (있을 때만)\n",
        "for name in ['kr', 'us_idx', 'cc']:\n",
        "    try:\n",
        "        if name in globals():\n",
        "            df_idx = globals()[name]\n",
        "            for col in df_idx.columns:\n",
        "                ns = norm_to_100(df_idx[col])\n",
        "                if ns is not None:\n",
        "                    series_dict[col] = ns\n",
        "    except Exception:\n",
        "        pass\n",
        "\n",
        "# 환율\n",
        "try:\n",
        "    if 'fx' in globals():\n",
        "        for col in fx.columns:\n",
        "            ns = norm_to_100(fx[col])\n",
        "            if ns is not None: series_dict[col] = ns\n",
        "except Exception:\n",
        "    pass\n",
        "\n",
        "# 비트코인 단일\n",
        "try:\n",
        "    if 'btc' in globals() and 'Close' in btc.columns:\n",
        "        ns = norm_to_100(btc['Close'])\n",
        "        if ns is not None: series_dict[f'BTC ({BTC_PAIR})'] = ns\n",
        "except Exception:\n",
        "    pass\n",
        "\n",
        "# 기타 암호화폐\n",
        "try:\n",
        "    if 'crypto_df' in globals():\n",
        "        for col in crypto_df.columns:\n",
        "            ns = norm_to_100(crypto_df[col])\n",
        "            if ns is not None: series_dict[f'CRYPTO {col}'] = ns\n",
        "except Exception:\n",
        "    pass\n",
        "\n",
        "# 통합 데이터프레임 구성 (outer join)\n",
        "if not series_dict:\n",
        "    raise RuntimeError('통합할 시리즈가 없습니다. 위의 섹션들을 먼저 실행하세요.')\n",
        "\n",
        "unified = pd.concat(series_dict, axis=1)  # columns are labels\n",
        "unified = unified.dropna(how='all')\n",
        "display(unified.tail())\n",
        "\n",
        "# 색상 지정(tab20 팔레트에서 순차 할당)\n",
        "labels = list(unified.columns)\n",
        "colors = [cm.get_cmap('tab20')(i % 20) for i in range(len(labels))]\n",
        "color_map = dict(zip(labels, colors))\n",
        "\n",
        "fig, ax = plt.subplots(figsize=(14, 6))\n",
        "for lab in labels:\n",
        "    ax.plot(unified.index, unified[lab], label=lab, color=color_map[lab], linewidth=1.5)\n",
        "ax.set_title('통합 비교 (기준100)')\n",
        "ax.set_ylabel('Index (Base=100)')\n",
        "ax.grid(alpha=0.3)\n",
        "ax.legend(ncol=2, fontsize=9)\n",
        "plt.show()\n"
      ]
    },
    {
      "cell_type": "markdown",
      "id": "51e36b44",
      "metadata": {
        "id": "gradio-title"
      },
      "source": [
        "## Gradio 대시보드\n",
        "- 선택한 시리즈를 기준100 정규화 여부와 기간을 조절해 한 그래프로 선명하게(Plotly) 표시합니다.\n"
      ]
    },
    {
      "cell_type": "code",
      "execution_count": null,
      "id": "ce416396",
      "metadata": {
        "id": "gradio-setup"
      },
      "outputs": [],
      "source": [
        "# Gradio/Plotly 설치 (Colab에선 보통 Plotly 기본 제공)\n",
        "!pip -q install gradio plotly\n",
        "\n",
        "import pandas as pd\n",
        "import numpy as np\n",
        "import gradio as gr\n",
        "import plotly.graph_objects as go\n",
        "import plotly.express as px\n",
        "\n",
        "def collect_series_store():\n",
        "    store = {}  # label -> pd.Series (raw Close)\n",
        "    # 국내 개별\n",
        "    try:\n",
        "        if 'df' in globals() and 'Close' in df.columns:\n",
        "            label = f\"KOR Stock: {sym.get('name','')}({sym.get('code','')})\" if 'sym' in globals() else 'KOR Stock'\n",
        "            store[label] = df['Close']\n",
        "    except Exception: pass\n",
        "    # AMZN\n",
        "    try:\n",
        "        if 'us_df' in globals() and 'Close' in us_df.columns:\n",
        "            store['AMZN'] = us_df['Close']\n",
        "    except Exception: pass\n",
        "    # 지수 표들\n",
        "    for name in ['kr', 'us_idx', 'cc']:\n",
        "        try:\n",
        "            if name in globals():\n",
        "                df_idx = globals()[name]\n",
        "                for col in df_idx.columns:\n",
        "                    store[col] = df_idx[col]\n",
        "        except Exception: pass\n",
        "    # 환율\n",
        "    try:\n",
        "        if 'fx' in globals():\n",
        "            for col in fx.columns:\n",
        "                store[col] = fx[col]\n",
        "    except Exception: pass\n",
        "    # BTC 단일\n",
        "    try:\n",
        "        if 'btc' in globals() and 'Close' in btc.columns:\n",
        "            store[f'BTC ({globals().get('BTC_PAIR', 'BTC')} )'] = btc['Close']\n",
        "    except Exception: pass\n",
        "    # 기타 크립토\n",
        "    try:\n",
        "        if 'crypto_df' in globals():\n",
        "            for col in crypto_df.columns:\n",
        "                store[f'CRYPTO {col}'] = crypto_df[col]\n",
        "    except Exception: pass\n",
        "    return store\n",
        "\n",
        "SERIES_STORE = collect_series_store()\n",
        "CHOICES = list(SERIES_STORE.keys())\n",
        "if not CHOICES:\n",
        "    print('주의: 선택할 시리즈가 없습니다. 위 섹션들을 먼저 실행하세요.')\n",
        "\n",
        "def build_colors(n, palette='Plotly'):\n",
        "    if palette == 'Viridis':\n",
        "        seq = px.colors.sequential.Viridis\n",
        "    elif palette == 'Turbo':\n",
        "        seq = px.colors.sequential.Turbo\n",
        "    elif palette == 'Set2':\n",
        "        seq = px.colors.qualitative.Set2\n",
        "    else:\n",
        "        seq = px.colors.qualitative.Plotly\n",
        "    # 반복하여 n개 확보\n",
        "    colors = [seq[i % len(seq)] for i in range(n)]\n",
        "    return colors\n",
        "\n",
        "def normalize_series(s):\n",
        "    s = s.dropna()\n",
        "    if s.empty: return s\n",
        "    base = s.iloc[0]\n",
        "    if base == 0: return s\n",
        "    return s / base * 100\n",
        "\n",
        "def plot_unified(selected, start, end, normalize, palette):\n",
        "    if not selected:\n",
        "        return go.Figure(), pd.DataFrame()\n",
        "    # 시리즈 정리\n",
        "    data = {}\n",
        "    for lab in selected:\n",
        "        if lab in SERIES_STORE:\n",
        "            s = SERIES_STORE[lab]\n",
        "            if start:\n",
        "                s = s[s.index >= start]\n",
        "            if end:\n",
        "                s = s[s.index <= end]\n",
        "            if normalize:\n",
        "                s = normalize_series(s)\n",
        "            data[lab] = s\n",
        "    if not data:\n",
        "        return go.Figure(), pd.DataFrame()\n",
        "    # 공통 인덱스로 결합 (outer) 및 표 미리보기\n",
        "    merged = pd.concat(data, axis=1)\n",
        "    # Plotly 시각화\n",
        "    colors = build_colors(len(data), palette)\n",
        "    fig = go.Figure()\n",
        "    for (lab, s), color in zip(data.items(), colors):\n",
        "        fig.add_trace(go.Scatter(x=s.index, y=s.values, mode='lines', name=lab, line=dict(color=color, width=2)))\n",
        "    fig.update_layout(title='선택 시리즈 통합 비교', yaxis_title='Index (Base=100)' if normalize else 'Value', hovermode='x unified', template='plotly_white', height=600, legend=dict(orientation='h'))\n",
        "    return fig, merged.tail(20)\n"
      ]
    },
    {
      "cell_type": "code",
      "execution_count": null,
      "id": "d046b815",
      "metadata": {
        "id": "gradio-app"
      },
      "outputs": [],
      "source": [
        "with gr.Blocks() as demo:\n",
        "    gr.Markdown('### 선택한 시리즈를 한눈에 비교 (Plotly)')\n",
        "    series = gr.CheckboxGroup(choices=CHOICES, value=CHOICES[:min(4, len(CHOICES))] if CHOICES else [], label='표시할 시리즈')\n",
        "    with gr.Row():\n",
        "        start = gr.Textbox(label='시작일 YYYY-MM-DD', value='2024-01-01')\n",
        "        end = gr.Textbox(label='종료일 YYYY-MM-DD', value='')\n",
        "        normalize = gr.Checkbox(label='기준100 정규화', value=True)\n",
        "        palette = gr.Dropdown(['Plotly','Viridis','Turbo','Set2'], value='Plotly', label='색상 팔레트')\n",
        "    plot = gr.Plot(label='그래프')\n",
        "    table = gr.Dataframe(label='표 미리보기', wrap=True)\n",
        "    btn = gr.Button('그리기')\n",
        "    btn.click(plot_unified, inputs=[series, start, end, normalize, palette], outputs=[plot, table])\n",
        "\n",
        "demo.launch(share=False)\n"
      ]
    }
  ],
  "metadata": {
    "colab": {
      "name": "KRX_FinanceDataReader_Colab.ipynb",
      "provenance": []
    },
    "kernelspec": {
      "display_name": "Python 3",
      "name": "python3"
    },
    "language_info": {
      "name": "python"
    }
  },
  "nbformat": 4,
  "nbformat_minor": 5
}
